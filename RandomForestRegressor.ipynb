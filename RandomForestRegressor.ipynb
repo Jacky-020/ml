{
 "cells": [
  {
   "cell_type": "code",
   "execution_count": 28,
   "id": "fe7c9f48-6147-4ebe-9967-226f25eb2378",
   "metadata": {},
   "outputs": [
    {
     "name": "stdout",
     "output_type": "stream",
     "text": [
      "66403.63841797679\n"
     ]
    }
   ],
   "source": [
    "from sklearn.ensemble import RandomForestRegressor\n",
    "from sklearn.metrics import mean_absolute_error\n",
    "import pandas as pd\n",
    "\n",
    "melbourne_data = pd.read_csv(\"./melb_data.csv\")\n",
    "selected_features = ['Rooms', 'Bathroom', 'Landsize', 'Lattitude', 'Longtitude']\n",
    "X = melbourne_data[selected_features]\n",
    "y = melbourne_data.Price\n",
    "model = RandomForestRegressor(random_state=1)\n",
    "model.fit(X, y)\n",
    "val_predictions = model.predict(X)\n",
    "print(mean_absolute_error(y, val_predictions))"
   ]
  },
  {
   "cell_type": "code",
   "execution_count": null,
   "id": "c1dd1dd3-9951-4ace-8b76-c6aa03b4fad1",
   "metadata": {},
   "outputs": [],
   "source": []
  }
 ],
 "metadata": {
  "kernelspec": {
   "display_name": "Python 3 (ipykernel)",
   "language": "python",
   "name": "python3"
  },
  "language_info": {
   "codemirror_mode": {
    "name": "ipython",
    "version": 3
   },
   "file_extension": ".py",
   "mimetype": "text/x-python",
   "name": "python",
   "nbconvert_exporter": "python",
   "pygments_lexer": "ipython3",
   "version": "3.12.2"
  }
 },
 "nbformat": 4,
 "nbformat_minor": 5
}
