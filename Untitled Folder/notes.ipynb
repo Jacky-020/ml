{
 "cells": [
  {
   "cell_type": "markdown",
   "id": "9cd54f1e-6590-4caa-a184-bc92182eea7f",
   "metadata": {},
   "source": [
    "Shruffle:\n",
    "\n",
    "only when ordering of the samples has no inherent meaning or relationship to the target variable:\n",
    "\n",
    "1. Randomly labeled data: \n",
    "\n",
    "2. Independent and identically distributed (i.i.d.) data: \n",
    "\n",
    "3. Balanced datasets: \n",
    "\n",
    "Inappropriate:\n",
    "\n",
    "1. Temporal data: \n",
    "\n",
    "2. Spatial data: \n",
    "\n",
    "3. Sequential data with autocorrelation: "
   ]
  },
  {
   "cell_type": "markdown",
   "id": "80443041",
   "metadata": {},
   "source": [
    "pandas.cut(x, bins, right=True, labels=None, retbins=False, precision=3, include_lowest=False, duplicates='raise', ordered=True)\n",
    "return a series."
   ]
  }
 ],
 "metadata": {
  "kernelspec": {
   "display_name": "Python 3 (ipykernel)",
   "language": "python",
   "name": "python3"
  },
  "language_info": {
   "codemirror_mode": {
    "name": "ipython",
    "version": 3
   },
   "file_extension": ".py",
   "mimetype": "text/x-python",
   "name": "python",
   "nbconvert_exporter": "python",
   "pygments_lexer": "ipython3",
   "version": "3.12.2"
  }
 },
 "nbformat": 4,
 "nbformat_minor": 5
}
